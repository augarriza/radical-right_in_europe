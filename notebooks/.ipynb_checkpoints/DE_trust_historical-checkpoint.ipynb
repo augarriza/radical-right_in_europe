{
 "cells": [
  {
   "cell_type": "code",
   "execution_count": 1,
   "metadata": {},
   "outputs": [],
   "source": [
    "import pandas as pd\n",
    "import numpy as np\n",
    "import matplotlib.pyplot as plt\n",
    "import seaborn as sns\n",
    "import statsmodels.api as sm"
   ]
  },
  {
   "cell_type": "code",
   "execution_count": 2,
   "metadata": {},
   "outputs": [],
   "source": [
    "df = pd.read_csv(\"../data/DE_trust_vote_age_historical_raw.csv\")"
   ]
  },
  {
   "cell_type": "code",
   "execution_count": 3,
   "metadata": {},
   "outputs": [
    {
     "data": {
      "text/html": [
       "<div>\n",
       "<style scoped>\n",
       "    .dataframe tbody tr th:only-of-type {\n",
       "        vertical-align: middle;\n",
       "    }\n",
       "\n",
       "    .dataframe tbody tr th {\n",
       "        vertical-align: top;\n",
       "    }\n",
       "\n",
       "    .dataframe thead th {\n",
       "        text-align: right;\n",
       "    }\n",
       "</style>\n",
       "<table border=\"1\" class=\"dataframe\">\n",
       "  <thead>\n",
       "    <tr style=\"text-align: right;\">\n",
       "      <th></th>\n",
       "      <th>cntry</th>\n",
       "      <th>cname</th>\n",
       "      <th>cedition</th>\n",
       "      <th>cproddat</th>\n",
       "      <th>cseqno</th>\n",
       "      <th>name</th>\n",
       "      <th>essround</th>\n",
       "      <th>edition</th>\n",
       "      <th>idno</th>\n",
       "      <th>dweight</th>\n",
       "      <th>pspwght</th>\n",
       "      <th>pweight</th>\n",
       "      <th>trstplt</th>\n",
       "      <th>vote</th>\n",
       "      <th>agea</th>\n",
       "    </tr>\n",
       "  </thead>\n",
       "  <tbody>\n",
       "    <tr>\n",
       "      <th>0</th>\n",
       "      <td>DE</td>\n",
       "      <td>ESS1-8e01</td>\n",
       "      <td>1.0</td>\n",
       "      <td>12.12.2018</td>\n",
       "      <td>66876</td>\n",
       "      <td>ESS1e06_6</td>\n",
       "      <td>1</td>\n",
       "      <td>6.6</td>\n",
       "      <td>101114</td>\n",
       "      <td>1.2572</td>\n",
       "      <td>2.358261</td>\n",
       "      <td>2.392155</td>\n",
       "      <td>0</td>\n",
       "      <td>2</td>\n",
       "      <td>26</td>\n",
       "    </tr>\n",
       "    <tr>\n",
       "      <th>1</th>\n",
       "      <td>DE</td>\n",
       "      <td>ESS1-8e01</td>\n",
       "      <td>1.0</td>\n",
       "      <td>12.12.2018</td>\n",
       "      <td>66877</td>\n",
       "      <td>ESS1e06_6</td>\n",
       "      <td>1</td>\n",
       "      <td>6.6</td>\n",
       "      <td>101120</td>\n",
       "      <td>1.2572</td>\n",
       "      <td>2.358261</td>\n",
       "      <td>2.392155</td>\n",
       "      <td>4</td>\n",
       "      <td>1</td>\n",
       "      <td>31</td>\n",
       "    </tr>\n",
       "    <tr>\n",
       "      <th>2</th>\n",
       "      <td>DE</td>\n",
       "      <td>ESS1-8e01</td>\n",
       "      <td>1.0</td>\n",
       "      <td>12.12.2018</td>\n",
       "      <td>66878</td>\n",
       "      <td>ESS1e06_6</td>\n",
       "      <td>1</td>\n",
       "      <td>6.6</td>\n",
       "      <td>101126</td>\n",
       "      <td>1.2572</td>\n",
       "      <td>1.885563</td>\n",
       "      <td>2.392155</td>\n",
       "      <td>4</td>\n",
       "      <td>2</td>\n",
       "      <td>60</td>\n",
       "    </tr>\n",
       "    <tr>\n",
       "      <th>3</th>\n",
       "      <td>DE</td>\n",
       "      <td>ESS1-8e01</td>\n",
       "      <td>1.0</td>\n",
       "      <td>12.12.2018</td>\n",
       "      <td>66879</td>\n",
       "      <td>ESS1e06_6</td>\n",
       "      <td>1</td>\n",
       "      <td>6.6</td>\n",
       "      <td>101304</td>\n",
       "      <td>1.2572</td>\n",
       "      <td>1.499388</td>\n",
       "      <td>2.392155</td>\n",
       "      <td>2</td>\n",
       "      <td>1</td>\n",
       "      <td>48</td>\n",
       "    </tr>\n",
       "    <tr>\n",
       "      <th>4</th>\n",
       "      <td>DE</td>\n",
       "      <td>ESS1-8e01</td>\n",
       "      <td>1.0</td>\n",
       "      <td>12.12.2018</td>\n",
       "      <td>66880</td>\n",
       "      <td>ESS1e06_6</td>\n",
       "      <td>1</td>\n",
       "      <td>6.6</td>\n",
       "      <td>101322</td>\n",
       "      <td>1.2572</td>\n",
       "      <td>2.358261</td>\n",
       "      <td>2.392155</td>\n",
       "      <td>1</td>\n",
       "      <td>2</td>\n",
       "      <td>32</td>\n",
       "    </tr>\n",
       "  </tbody>\n",
       "</table>\n",
       "</div>"
      ],
      "text/plain": [
       "  cntry      cname  cedition    cproddat  cseqno       name  essround  \\\n",
       "0    DE  ESS1-8e01       1.0  12.12.2018   66876  ESS1e06_6         1   \n",
       "1    DE  ESS1-8e01       1.0  12.12.2018   66877  ESS1e06_6         1   \n",
       "2    DE  ESS1-8e01       1.0  12.12.2018   66878  ESS1e06_6         1   \n",
       "3    DE  ESS1-8e01       1.0  12.12.2018   66879  ESS1e06_6         1   \n",
       "4    DE  ESS1-8e01       1.0  12.12.2018   66880  ESS1e06_6         1   \n",
       "\n",
       "   edition    idno  dweight   pspwght   pweight  trstplt  vote  agea  \n",
       "0      6.6  101114   1.2572  2.358261  2.392155        0     2    26  \n",
       "1      6.6  101120   1.2572  2.358261  2.392155        4     1    31  \n",
       "2      6.6  101126   1.2572  1.885563  2.392155        4     2    60  \n",
       "3      6.6  101304   1.2572  1.499388  2.392155        2     1    48  \n",
       "4      6.6  101322   1.2572  2.358261  2.392155        1     2    32  "
      ]
     },
     "execution_count": 3,
     "metadata": {},
     "output_type": "execute_result"
    }
   ],
   "source": [
    "df.head()"
   ]
  },
  {
   "cell_type": "code",
   "execution_count": 4,
   "metadata": {},
   "outputs": [
    {
     "data": {
      "text/plain": [
       "Index(['cntry', 'cname', 'cedition', 'cproddat', 'cseqno', 'name', 'essround',\n",
       "       'edition', 'idno', 'dweight', 'pspwght', 'pweight', 'trstplt', 'vote',\n",
       "       'agea'],\n",
       "      dtype='object')"
      ]
     },
     "execution_count": 4,
     "metadata": {},
     "output_type": "execute_result"
    }
   ],
   "source": [
    "df.columns"
   ]
  },
  {
   "cell_type": "code",
   "execution_count": 5,
   "metadata": {},
   "outputs": [],
   "source": [
    "#We drop the columns we won´t use in our analysis\n",
    "de_h = df.drop(columns=['cname', \n",
    "                 'cedition', \n",
    "                 'cproddat', \n",
    "                 'cseqno',\n",
    "                 'name',\n",
    "                 'edition',\n",
    "                 'dweight', \n",
    "                 'pspwght', \n",
    "                 'pweight'])"
   ]
  },
  {
   "cell_type": "code",
   "execution_count": 6,
   "metadata": {},
   "outputs": [],
   "source": [
    "#We rename the columns\n",
    "cols = {\"cntry\":\"country\",\"essround\":\"round\",\"trstplt\":\"trust\", \"agea\":\"age\"}"
   ]
  },
  {
   "cell_type": "code",
   "execution_count": 7,
   "metadata": {},
   "outputs": [],
   "source": [
    "de_trvtag = de_h.rename(columns=cols)"
   ]
  },
  {
   "cell_type": "code",
   "execution_count": 9,
   "metadata": {},
   "outputs": [
    {
     "data": {
      "text/html": [
       "<div>\n",
       "<style scoped>\n",
       "    .dataframe tbody tr th:only-of-type {\n",
       "        vertical-align: middle;\n",
       "    }\n",
       "\n",
       "    .dataframe tbody tr th {\n",
       "        vertical-align: top;\n",
       "    }\n",
       "\n",
       "    .dataframe thead th {\n",
       "        text-align: right;\n",
       "    }\n",
       "</style>\n",
       "<table border=\"1\" class=\"dataframe\">\n",
       "  <thead>\n",
       "    <tr style=\"text-align: right;\">\n",
       "      <th></th>\n",
       "      <th>country</th>\n",
       "      <th>round</th>\n",
       "      <th>idno</th>\n",
       "      <th>trust</th>\n",
       "      <th>vote</th>\n",
       "      <th>age</th>\n",
       "    </tr>\n",
       "  </thead>\n",
       "  <tbody>\n",
       "    <tr>\n",
       "      <th>0</th>\n",
       "      <td>DE</td>\n",
       "      <td>1</td>\n",
       "      <td>101114</td>\n",
       "      <td>0</td>\n",
       "      <td>2</td>\n",
       "      <td>26</td>\n",
       "    </tr>\n",
       "    <tr>\n",
       "      <th>1</th>\n",
       "      <td>DE</td>\n",
       "      <td>1</td>\n",
       "      <td>101120</td>\n",
       "      <td>4</td>\n",
       "      <td>1</td>\n",
       "      <td>31</td>\n",
       "    </tr>\n",
       "    <tr>\n",
       "      <th>2</th>\n",
       "      <td>DE</td>\n",
       "      <td>1</td>\n",
       "      <td>101126</td>\n",
       "      <td>4</td>\n",
       "      <td>2</td>\n",
       "      <td>60</td>\n",
       "    </tr>\n",
       "    <tr>\n",
       "      <th>3</th>\n",
       "      <td>DE</td>\n",
       "      <td>1</td>\n",
       "      <td>101304</td>\n",
       "      <td>2</td>\n",
       "      <td>1</td>\n",
       "      <td>48</td>\n",
       "    </tr>\n",
       "    <tr>\n",
       "      <th>4</th>\n",
       "      <td>DE</td>\n",
       "      <td>1</td>\n",
       "      <td>101322</td>\n",
       "      <td>1</td>\n",
       "      <td>2</td>\n",
       "      <td>32</td>\n",
       "    </tr>\n",
       "  </tbody>\n",
       "</table>\n",
       "</div>"
      ],
      "text/plain": [
       "  country  round    idno  trust  vote  age\n",
       "0      DE      1  101114      0     2   26\n",
       "1      DE      1  101120      4     1   31\n",
       "2      DE      1  101126      4     2   60\n",
       "3      DE      1  101304      2     1   48\n",
       "4      DE      1  101322      1     2   32"
      ]
     },
     "execution_count": 9,
     "metadata": {},
     "output_type": "execute_result"
    }
   ],
   "source": [
    "de_trvtag.head()\n",
    "#trust: Trust in politicians -->\n",
    "#0:absolutely not, 10:totally, 77: don´t answer, 88:don´t know\n",
    "#vote : Voted in last national election -->\n",
    "#1:yes, 2:no, 3:not eligible, 7:didn´t answer, 8:didn´t know, 9:?"
   ]
  },
  {
   "cell_type": "code",
   "execution_count": 10,
   "metadata": {},
   "outputs": [
    {
     "data": {
      "text/plain": [
       "(23342, 6)"
      ]
     },
     "execution_count": 10,
     "metadata": {},
     "output_type": "execute_result"
    }
   ],
   "source": [
    "de_trvtag.shape"
   ]
  },
  {
   "cell_type": "code",
   "execution_count": 21,
   "metadata": {},
   "outputs": [],
   "source": [
    "#We drop the rows for which vote equals 7,8,9 (84/23342)\n",
    "de_trvt = de_trvtag.loc[de_trvtag[\"vote\"].isin([1,2,3])]"
   ]
  },
  {
   "cell_type": "code",
   "execution_count": 22,
   "metadata": {},
   "outputs": [
    {
     "data": {
      "text/plain": [
       "(23258, 6)"
      ]
     },
     "execution_count": 22,
     "metadata": {},
     "output_type": "execute_result"
    }
   ],
   "source": [
    "de_trvt.shape"
   ]
  },
  {
   "cell_type": "code",
   "execution_count": 31,
   "metadata": {},
   "outputs": [],
   "source": [
    "#We now drop the rows for which trust equalts 77,88 (196/23258)\n",
    "de_trvt = de_trvt.loc[~de_trvt[\"trust\"].isin([77,88])]"
   ]
  },
  {
   "cell_type": "code",
   "execution_count": 46,
   "metadata": {},
   "outputs": [
    {
     "data": {
      "text/plain": [
       "1    17288\n",
       "2     3698\n",
       "3     2076\n",
       "Name: vote, dtype: int64"
      ]
     },
     "execution_count": 46,
     "metadata": {},
     "output_type": "execute_result"
    }
   ],
   "source": [
    "de_trvt[\"vote\"].value_counts()"
   ]
  },
  {
   "cell_type": "code",
   "execution_count": 49,
   "metadata": {},
   "outputs": [],
   "source": [
    "#Now we group by vote (1,2,3) and level of trust (0-10)\n",
    "de_vote=de_trvt.groupby([\"round\",\"vote\",\"trust\"]).agg({\"idno\":\"count\"}).reset_index()"
   ]
  },
  {
   "cell_type": "code",
   "execution_count": 50,
   "metadata": {},
   "outputs": [
    {
     "data": {
      "text/plain": [
       "<matplotlib.axes._subplots.AxesSubplot at 0x1a1d428410>"
      ]
     },
     "execution_count": 50,
     "metadata": {},
     "output_type": "execute_result"
    },
    {
     "data": {
      "image/png": "[encoded data removed]",
      "text/plain": [
       "<Figure size 720x432 with 1 Axes>"
      ]
     },
     "metadata": {
      "needs_background": "light"
     },
     "output_type": "display_data"
    }
   ],
   "source": [
    "fig, ax = plt.subplots(figsize=(10,6)) \n",
    "sns.barplot(data=de_vote[de_vote[\"vote\"]==1], x=\"round\", y=\"idno\", hue=\"trust\", ax=ax)"
   ]
  },
  {
   "cell_type": "code",
   "execution_count": 51,
   "metadata": {},
   "outputs": [],
   "source": [
    "de_vote.to_csv(\"../data/vote_de.csv\", index=False)"
   ]
  },
  {
   "cell_type": "markdown",
   "metadata": {},
   "source": [
    "### Different approach: we focus on trust. We \"simplify\" the division, instead of having 11 different values, we group by yes (7-10) or no(0-6) and we check how that evolved over time."
   ]
  },
  {
   "cell_type": "code",
   "execution_count": 64,
   "metadata": {},
   "outputs": [],
   "source": [
    "de_trust = de_trvt.assign(TRUST=np.where(de_trvt[\"trust\"].between(6,10),\"yes\",\"no\"))"
   ]
  },
  {
   "cell_type": "code",
   "execution_count": 65,
   "metadata": {},
   "outputs": [
    {
     "data": {
      "text/plain": [
       "(23062, 7)"
      ]
     },
     "execution_count": 65,
     "metadata": {},
     "output_type": "execute_result"
    }
   ],
   "source": [
    "de_trust.shape"
   ]
  },
  {
   "cell_type": "code",
   "execution_count": 66,
   "metadata": {},
   "outputs": [],
   "source": [
    "de_trust = de_trust.groupby([\"round\", \"TRUST\"]).agg({\"idno\":\"count\"}).reset_index()"
   ]
  },
  {
   "cell_type": "code",
   "execution_count": 67,
   "metadata": {},
   "outputs": [
    {
     "data": {
      "text/plain": [
       "<matplotlib.axes._subplots.AxesSubplot at 0x1a1e2d15d0>"
      ]
     },
     "execution_count": 67,
     "metadata": {},
     "output_type": "execute_result"
    },
    {
     "data": {
      "image/png": "[encoded data removed]",
      "text/plain": [
       "<Figure size 432x288 with 1 Axes>"
      ]
     },
     "metadata": {
      "needs_background": "light"
     },
     "output_type": "display_data"
    }
   ],
   "source": [
    "sns.lineplot(data=de_trust, x=\"round\",y=\"idno\", hue=\"TRUST\")"
   ]
  },
  {
   "cell_type": "code",
   "execution_count": null,
   "metadata": {},
   "outputs": [],
   "source": []
  }
 ],
 "metadata": {
  "kernelspec": {
   "display_name": "Python 3",
   "language": "python",
   "name": "python3"
  },
  "language_info": {
   "codemirror_mode": {
    "name": "ipython",
    "version": 3
   },
   "file_extension": ".py",
   "mimetype": "text/x-python",
   "name": "python",
   "nbconvert_exporter": "python",
   "pygments_lexer": "ipython3",
   "version": "3.7.6"
  }
 },
 "nbformat": 4,
 "nbformat_minor": 4
}
