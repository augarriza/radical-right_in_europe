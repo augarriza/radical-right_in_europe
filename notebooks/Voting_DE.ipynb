{
 "cells": [
  {
   "cell_type": "code",
   "execution_count": 1,
   "metadata": {},
   "outputs": [],
   "source": [
    "import pandas as pd"
   ]
  },
  {
   "cell_type": "code",
   "execution_count": 2,
   "metadata": {},
   "outputs": [],
   "source": [
    "df = pd.read_csv(\"../data/DE_vote_close.csv\")"
   ]
  },
  {
   "cell_type": "code",
   "execution_count": 3,
   "metadata": {},
   "outputs": [
    {
     "data": {
      "text/html": [
       "<div>\n",
       "<style scoped>\n",
       "    .dataframe tbody tr th:only-of-type {\n",
       "        vertical-align: middle;\n",
       "    }\n",
       "\n",
       "    .dataframe tbody tr th {\n",
       "        vertical-align: top;\n",
       "    }\n",
       "\n",
       "    .dataframe thead th {\n",
       "        text-align: right;\n",
       "    }\n",
       "</style>\n",
       "<table border=\"1\" class=\"dataframe\">\n",
       "  <thead>\n",
       "    <tr style=\"text-align: right;\">\n",
       "      <th></th>\n",
       "      <th>cntry</th>\n",
       "      <th>cname</th>\n",
       "      <th>cedition</th>\n",
       "      <th>cproddat</th>\n",
       "      <th>cseqno</th>\n",
       "      <th>name</th>\n",
       "      <th>essround</th>\n",
       "      <th>edition</th>\n",
       "      <th>idno</th>\n",
       "      <th>dweight</th>\n",
       "      <th>pspwght</th>\n",
       "      <th>pweight</th>\n",
       "      <th>vote</th>\n",
       "      <th>clsprty</th>\n",
       "    </tr>\n",
       "  </thead>\n",
       "  <tbody>\n",
       "    <tr>\n",
       "      <th>0</th>\n",
       "      <td>DE</td>\n",
       "      <td>ESS1-8e01</td>\n",
       "      <td>1.0</td>\n",
       "      <td>12.12.2018</td>\n",
       "      <td>84321</td>\n",
       "      <td>ESS7e02_2</td>\n",
       "      <td>7</td>\n",
       "      <td>2.2</td>\n",
       "      <td>10000011</td>\n",
       "      <td>0.531346</td>\n",
       "      <td>0.607555</td>\n",
       "      <td>2.304126</td>\n",
       "      <td>1</td>\n",
       "      <td>2</td>\n",
       "    </tr>\n",
       "    <tr>\n",
       "      <th>1</th>\n",
       "      <td>DE</td>\n",
       "      <td>ESS1-8e01</td>\n",
       "      <td>1.0</td>\n",
       "      <td>12.12.2018</td>\n",
       "      <td>84322</td>\n",
       "      <td>ESS7e02_2</td>\n",
       "      <td>7</td>\n",
       "      <td>2.2</td>\n",
       "      <td>10000021</td>\n",
       "      <td>0.531346</td>\n",
       "      <td>0.462666</td>\n",
       "      <td>2.304126</td>\n",
       "      <td>1</td>\n",
       "      <td>1</td>\n",
       "    </tr>\n",
       "    <tr>\n",
       "      <th>2</th>\n",
       "      <td>DE</td>\n",
       "      <td>ESS1-8e01</td>\n",
       "      <td>1.0</td>\n",
       "      <td>12.12.2018</td>\n",
       "      <td>84323</td>\n",
       "      <td>ESS7e02_2</td>\n",
       "      <td>7</td>\n",
       "      <td>2.2</td>\n",
       "      <td>10000051</td>\n",
       "      <td>1.227808</td>\n",
       "      <td>0.640290</td>\n",
       "      <td>2.304126</td>\n",
       "      <td>1</td>\n",
       "      <td>2</td>\n",
       "    </tr>\n",
       "    <tr>\n",
       "      <th>3</th>\n",
       "      <td>DE</td>\n",
       "      <td>ESS1-8e01</td>\n",
       "      <td>1.0</td>\n",
       "      <td>12.12.2018</td>\n",
       "      <td>84324</td>\n",
       "      <td>ESS7e02_2</td>\n",
       "      <td>7</td>\n",
       "      <td>2.2</td>\n",
       "      <td>10000061</td>\n",
       "      <td>1.227808</td>\n",
       "      <td>1.142616</td>\n",
       "      <td>2.304126</td>\n",
       "      <td>1</td>\n",
       "      <td>2</td>\n",
       "    </tr>\n",
       "    <tr>\n",
       "      <th>4</th>\n",
       "      <td>DE</td>\n",
       "      <td>ESS1-8e01</td>\n",
       "      <td>1.0</td>\n",
       "      <td>12.12.2018</td>\n",
       "      <td>84325</td>\n",
       "      <td>ESS7e02_2</td>\n",
       "      <td>7</td>\n",
       "      <td>2.2</td>\n",
       "      <td>10000111</td>\n",
       "      <td>1.227808</td>\n",
       "      <td>0.852731</td>\n",
       "      <td>2.304126</td>\n",
       "      <td>1</td>\n",
       "      <td>1</td>\n",
       "    </tr>\n",
       "  </tbody>\n",
       "</table>\n",
       "</div>"
      ],
      "text/plain": [
       "  cntry      cname  cedition    cproddat  cseqno       name  essround  \\\n",
       "0    DE  ESS1-8e01       1.0  12.12.2018   84321  ESS7e02_2         7   \n",
       "1    DE  ESS1-8e01       1.0  12.12.2018   84322  ESS7e02_2         7   \n",
       "2    DE  ESS1-8e01       1.0  12.12.2018   84323  ESS7e02_2         7   \n",
       "3    DE  ESS1-8e01       1.0  12.12.2018   84324  ESS7e02_2         7   \n",
       "4    DE  ESS1-8e01       1.0  12.12.2018   84325  ESS7e02_2         7   \n",
       "\n",
       "   edition      idno   dweight   pspwght   pweight  vote  clsprty  \n",
       "0      2.2  10000011  0.531346  0.607555  2.304126     1        2  \n",
       "1      2.2  10000021  0.531346  0.462666  2.304126     1        1  \n",
       "2      2.2  10000051  1.227808  0.640290  2.304126     1        2  \n",
       "3      2.2  10000061  1.227808  1.142616  2.304126     1        2  \n",
       "4      2.2  10000111  1.227808  0.852731  2.304126     1        1  "
      ]
     },
     "execution_count": 3,
     "metadata": {},
     "output_type": "execute_result"
    }
   ],
   "source": [
    "df.head()\n",
    "#vote -> 1:yes, 2:no, 3:not eligible to vote, 7:refusal, 8:don´t know\n",
    "#clsprty_close to any party: 1:yes, 2:no, 7:no answer, 8: don´t know"
   ]
  },
  {
   "cell_type": "code",
   "execution_count": 4,
   "metadata": {},
   "outputs": [
    {
     "data": {
      "text/plain": [
       "1    4458\n",
       "2     833\n",
       "3     589\n",
       "8       9\n",
       "7       8\n",
       "Name: vote, dtype: int64"
      ]
     },
     "execution_count": 4,
     "metadata": {},
     "output_type": "execute_result"
    }
   ],
   "source": [
    "df[\"vote\"].value_counts()"
   ]
  },
  {
   "cell_type": "code",
   "execution_count": 4,
   "metadata": {},
   "outputs": [
    {
     "data": {
      "text/plain": [
       "1    3277\n",
       "2    2579\n",
       "8      23\n",
       "7      18\n",
       "Name: clsprty, dtype: int64"
      ]
     },
     "execution_count": 4,
     "metadata": {},
     "output_type": "execute_result"
    }
   ],
   "source": [
    "df[\"clsprty\"].value_counts()"
   ]
  },
  {
   "cell_type": "code",
   "execution_count": 4,
   "metadata": {},
   "outputs": [
    {
     "data": {
      "text/plain": [
       "cntry          1\n",
       "cname          1\n",
       "cedition       1\n",
       "cproddat       1\n",
       "cseqno      5897\n",
       "name           2\n",
       "essround       2\n",
       "edition        2\n",
       "idno        5820\n",
       "dweight        5\n",
       "pspwght      623\n",
       "pweight        2\n",
       "vote           5\n",
       "clsprty        4\n",
       "dtype: int64"
      ]
     },
     "execution_count": 4,
     "metadata": {},
     "output_type": "execute_result"
    }
   ],
   "source": [
    "df.nunique()"
   ]
  },
  {
   "cell_type": "code",
   "execution_count": 4,
   "metadata": {},
   "outputs": [],
   "source": [
    "df_p = pd.read_csv(\"../data/ESS1-8e01_party.csv\")"
   ]
  },
  {
   "cell_type": "code",
   "execution_count": 5,
   "metadata": {},
   "outputs": [
    {
     "data": {
      "text/html": [
       "<div>\n",
       "<style scoped>\n",
       "    .dataframe tbody tr th:only-of-type {\n",
       "        vertical-align: middle;\n",
       "    }\n",
       "\n",
       "    .dataframe tbody tr th {\n",
       "        vertical-align: top;\n",
       "    }\n",
       "\n",
       "    .dataframe thead th {\n",
       "        text-align: right;\n",
       "    }\n",
       "</style>\n",
       "<table border=\"1\" class=\"dataframe\">\n",
       "  <thead>\n",
       "    <tr style=\"text-align: right;\">\n",
       "      <th></th>\n",
       "      <th>cntry</th>\n",
       "      <th>cname</th>\n",
       "      <th>cedition</th>\n",
       "      <th>cproddat</th>\n",
       "      <th>cseqno</th>\n",
       "      <th>name</th>\n",
       "      <th>essround</th>\n",
       "      <th>edition</th>\n",
       "      <th>idno</th>\n",
       "      <th>dweight</th>\n",
       "      <th>pspwght</th>\n",
       "      <th>pweight</th>\n",
       "      <th>prtvede1</th>\n",
       "      <th>prtclede</th>\n",
       "    </tr>\n",
       "  </thead>\n",
       "  <tbody>\n",
       "    <tr>\n",
       "      <th>0</th>\n",
       "      <td>DE</td>\n",
       "      <td>ESS1-8e01</td>\n",
       "      <td>1.0</td>\n",
       "      <td>12.12.2018</td>\n",
       "      <td>84321</td>\n",
       "      <td>ESS7e02_2</td>\n",
       "      <td>7</td>\n",
       "      <td>2.2</td>\n",
       "      <td>10000011</td>\n",
       "      <td>0.531346</td>\n",
       "      <td>0.607555</td>\n",
       "      <td>2.304126</td>\n",
       "      <td>2</td>\n",
       "      <td>66</td>\n",
       "    </tr>\n",
       "    <tr>\n",
       "      <th>1</th>\n",
       "      <td>DE</td>\n",
       "      <td>ESS1-8e01</td>\n",
       "      <td>1.0</td>\n",
       "      <td>12.12.2018</td>\n",
       "      <td>84322</td>\n",
       "      <td>ESS7e02_2</td>\n",
       "      <td>7</td>\n",
       "      <td>2.2</td>\n",
       "      <td>10000021</td>\n",
       "      <td>0.531346</td>\n",
       "      <td>0.462666</td>\n",
       "      <td>2.304126</td>\n",
       "      <td>1</td>\n",
       "      <td>1</td>\n",
       "    </tr>\n",
       "    <tr>\n",
       "      <th>2</th>\n",
       "      <td>DE</td>\n",
       "      <td>ESS1-8e01</td>\n",
       "      <td>1.0</td>\n",
       "      <td>12.12.2018</td>\n",
       "      <td>84323</td>\n",
       "      <td>ESS7e02_2</td>\n",
       "      <td>7</td>\n",
       "      <td>2.2</td>\n",
       "      <td>10000051</td>\n",
       "      <td>1.227808</td>\n",
       "      <td>0.640290</td>\n",
       "      <td>2.304126</td>\n",
       "      <td>1</td>\n",
       "      <td>66</td>\n",
       "    </tr>\n",
       "    <tr>\n",
       "      <th>3</th>\n",
       "      <td>DE</td>\n",
       "      <td>ESS1-8e01</td>\n",
       "      <td>1.0</td>\n",
       "      <td>12.12.2018</td>\n",
       "      <td>84324</td>\n",
       "      <td>ESS7e02_2</td>\n",
       "      <td>7</td>\n",
       "      <td>2.2</td>\n",
       "      <td>10000061</td>\n",
       "      <td>1.227808</td>\n",
       "      <td>1.142616</td>\n",
       "      <td>2.304126</td>\n",
       "      <td>1</td>\n",
       "      <td>66</td>\n",
       "    </tr>\n",
       "    <tr>\n",
       "      <th>4</th>\n",
       "      <td>DE</td>\n",
       "      <td>ESS1-8e01</td>\n",
       "      <td>1.0</td>\n",
       "      <td>12.12.2018</td>\n",
       "      <td>84325</td>\n",
       "      <td>ESS7e02_2</td>\n",
       "      <td>7</td>\n",
       "      <td>2.2</td>\n",
       "      <td>10000111</td>\n",
       "      <td>1.227808</td>\n",
       "      <td>0.852731</td>\n",
       "      <td>2.304126</td>\n",
       "      <td>1</td>\n",
       "      <td>1</td>\n",
       "    </tr>\n",
       "  </tbody>\n",
       "</table>\n",
       "</div>"
      ],
      "text/plain": [
       "  cntry      cname  cedition    cproddat  cseqno       name  essround  \\\n",
       "0    DE  ESS1-8e01       1.0  12.12.2018   84321  ESS7e02_2         7   \n",
       "1    DE  ESS1-8e01       1.0  12.12.2018   84322  ESS7e02_2         7   \n",
       "2    DE  ESS1-8e01       1.0  12.12.2018   84323  ESS7e02_2         7   \n",
       "3    DE  ESS1-8e01       1.0  12.12.2018   84324  ESS7e02_2         7   \n",
       "4    DE  ESS1-8e01       1.0  12.12.2018   84325  ESS7e02_2         7   \n",
       "\n",
       "   edition      idno   dweight   pspwght   pweight  prtvede1  prtclede  \n",
       "0      2.2  10000011  0.531346  0.607555  2.304126         2        66  \n",
       "1      2.2  10000021  0.531346  0.462666  2.304126         1         1  \n",
       "2      2.2  10000051  1.227808  0.640290  2.304126         1        66  \n",
       "3      2.2  10000061  1.227808  1.142616  2.304126         1        66  \n",
       "4      2.2  10000111  1.227808  0.852731  2.304126         1         1  "
      ]
     },
     "execution_count": 5,
     "metadata": {},
     "output_type": "execute_result"
    }
   ],
   "source": [
    "df_p.head()"
   ]
  },
  {
   "cell_type": "code",
   "execution_count": 8,
   "metadata": {},
   "outputs": [
    {
     "data": {
      "text/plain": [
       "cntry          1\n",
       "cname          1\n",
       "cedition       1\n",
       "cproddat       1\n",
       "cseqno      5897\n",
       "name           2\n",
       "essround       2\n",
       "edition        2\n",
       "idno        5820\n",
       "dweight        5\n",
       "pspwght      623\n",
       "pweight        2\n",
       "prtvede1      12\n",
       "prtclede      12\n",
       "dtype: int64"
      ]
     },
     "execution_count": 8,
     "metadata": {},
     "output_type": "execute_result"
    }
   ],
   "source": [
    "df_p.nunique()"
   ]
  },
  {
   "cell_type": "code",
   "execution_count": 5,
   "metadata": {},
   "outputs": [
    {
     "data": {
      "text/plain": [
       "1     1595\n",
       "66    1439\n",
       "2     1239\n",
       "4      394\n",
       "3      357\n",
       "77     282\n",
       "88     259\n",
       "6      120\n",
       "5       97\n",
       "9       60\n",
       "7       37\n",
       "8       18\n",
       "Name: prtvede1, dtype: int64"
      ]
     },
     "execution_count": 5,
     "metadata": {},
     "output_type": "execute_result"
    }
   ],
   "source": [
    "#Party voted for in last national election\n",
    "#66: they didn´t vote\n",
    "df_p[\"prtvede1\"].value_counts()"
   ]
  },
  {
   "cell_type": "code",
   "execution_count": 16,
   "metadata": {},
   "outputs": [
    {
     "data": {
      "text/plain": [
       "66    2620\n",
       "1     1113\n",
       "2      841\n",
       "4      466\n",
       "3      359\n",
       "6      152\n",
       "77     118\n",
       "5      102\n",
       "9       74\n",
       "7       30\n",
       "8       15\n",
       "88       7\n",
       "Name: prtclede, dtype: int64"
      ]
     },
     "execution_count": 16,
     "metadata": {},
     "output_type": "execute_result"
    }
   ],
   "source": [
    "#Which party feel closer to\n",
    "#66: there´s no party they feel closer to\n",
    "df_p[\"prtclede\"].value_counts()"
   ]
  }
 ],
 "metadata": {
  "kernelspec": {
   "display_name": "Python 3",
   "language": "python",
   "name": "python3"
  },
  "language_info": {
   "codemirror_mode": {
    "name": "ipython",
    "version": 3
   },
   "file_extension": ".py",
   "mimetype": "text/x-python",
   "name": "python",
   "nbconvert_exporter": "python",
   "pygments_lexer": "ipython3",
   "version": "3.7.6"
  }
 },
 "nbformat": 4,
 "nbformat_minor": 4
}
