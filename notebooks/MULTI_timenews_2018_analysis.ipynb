{
 "cells": [
  {
   "cell_type": "code",
   "execution_count": 33,
   "metadata": {},
   "outputs": [],
   "source": [
    "import pandas as pd\n",
    "import numpy as np\n",
    "import matplotlib.pyplot as plt\n",
    "import seaborn as sns\n",
    "import statsmodels.api as sm"
   ]
  },
  {
   "cell_type": "code",
   "execution_count": 44,
   "metadata": {},
   "outputs": [],
   "source": [
    "pd.set_option('display.max_columns', 500)\n",
    "pd.set_option('display.max_rows', 500)\n",
    "raw = pd.read_csv('../data/MULTI_timenews_eco_health_edu_round9_raw.csv')"
   ]
  },
  {
   "cell_type": "code",
   "execution_count": 45,
   "metadata": {},
   "outputs": [],
   "source": [
    "countries = ['DE','FR','IT','HU','PL']"
   ]
  },
  {
   "cell_type": "code",
   "execution_count": 46,
   "metadata": {},
   "outputs": [],
   "source": [
    "raw = raw[raw['cntry'].isin(countries)].drop(columns='Unnamed: 12').reset_index(drop=True)"
   ]
  },
  {
   "cell_type": "code",
   "execution_count": 47,
   "metadata": {},
   "outputs": [
    {
     "data": {
      "text/html": [
       "<div>\n",
       "<style scoped>\n",
       "    .dataframe tbody tr th:only-of-type {\n",
       "        vertical-align: middle;\n",
       "    }\n",
       "\n",
       "    .dataframe tbody tr th {\n",
       "        vertical-align: top;\n",
       "    }\n",
       "\n",
       "    .dataframe thead th {\n",
       "        text-align: right;\n",
       "    }\n",
       "</style>\n",
       "<table border=\"1\" class=\"dataframe\">\n",
       "  <thead>\n",
       "    <tr style=\"text-align: right;\">\n",
       "      <th></th>\n",
       "      <th>essround</th>\n",
       "      <th>idno</th>\n",
       "      <th>cntry</th>\n",
       "      <th>nwspol</th>\n",
       "      <th>prtvede1</th>\n",
       "      <th>prtvtdfr</th>\n",
       "      <th>prtvtfhu</th>\n",
       "      <th>prtvtcit</th>\n",
       "      <th>prtvtdpl</th>\n",
       "      <th>stfeco</th>\n",
       "      <th>stfedu</th>\n",
       "      <th>stfhlth</th>\n",
       "    </tr>\n",
       "  </thead>\n",
       "  <tbody>\n",
       "    <tr>\n",
       "      <th>0</th>\n",
       "      <td>9</td>\n",
       "      <td>1</td>\n",
       "      <td>DE</td>\n",
       "      <td>60</td>\n",
       "      <td>4.0</td>\n",
       "      <td>NaN</td>\n",
       "      <td>NaN</td>\n",
       "      <td>NaN</td>\n",
       "      <td>NaN</td>\n",
       "      <td>5</td>\n",
       "      <td>4</td>\n",
       "      <td>5</td>\n",
       "    </tr>\n",
       "    <tr>\n",
       "      <th>1</th>\n",
       "      <td>9</td>\n",
       "      <td>63</td>\n",
       "      <td>DE</td>\n",
       "      <td>30</td>\n",
       "      <td>66.0</td>\n",
       "      <td>NaN</td>\n",
       "      <td>NaN</td>\n",
       "      <td>NaN</td>\n",
       "      <td>NaN</td>\n",
       "      <td>5</td>\n",
       "      <td>5</td>\n",
       "      <td>6</td>\n",
       "    </tr>\n",
       "    <tr>\n",
       "      <th>2</th>\n",
       "      <td>9</td>\n",
       "      <td>108</td>\n",
       "      <td>DE</td>\n",
       "      <td>15</td>\n",
       "      <td>66.0</td>\n",
       "      <td>NaN</td>\n",
       "      <td>NaN</td>\n",
       "      <td>NaN</td>\n",
       "      <td>NaN</td>\n",
       "      <td>9</td>\n",
       "      <td>8</td>\n",
       "      <td>5</td>\n",
       "    </tr>\n",
       "    <tr>\n",
       "      <th>3</th>\n",
       "      <td>9</td>\n",
       "      <td>117</td>\n",
       "      <td>DE</td>\n",
       "      <td>90</td>\n",
       "      <td>1.0</td>\n",
       "      <td>NaN</td>\n",
       "      <td>NaN</td>\n",
       "      <td>NaN</td>\n",
       "      <td>NaN</td>\n",
       "      <td>7</td>\n",
       "      <td>7</td>\n",
       "      <td>6</td>\n",
       "    </tr>\n",
       "    <tr>\n",
       "      <th>4</th>\n",
       "      <td>9</td>\n",
       "      <td>134</td>\n",
       "      <td>DE</td>\n",
       "      <td>60</td>\n",
       "      <td>1.0</td>\n",
       "      <td>NaN</td>\n",
       "      <td>NaN</td>\n",
       "      <td>NaN</td>\n",
       "      <td>NaN</td>\n",
       "      <td>9</td>\n",
       "      <td>8</td>\n",
       "      <td>9</td>\n",
       "    </tr>\n",
       "  </tbody>\n",
       "</table>\n",
       "</div>"
      ],
      "text/plain": [
       "   essround  idno cntry  nwspol  prtvede1  prtvtdfr  prtvtfhu  prtvtcit  \\\n",
       "0         9     1    DE      60       4.0       NaN       NaN       NaN   \n",
       "1         9    63    DE      30      66.0       NaN       NaN       NaN   \n",
       "2         9   108    DE      15      66.0       NaN       NaN       NaN   \n",
       "3         9   117    DE      90       1.0       NaN       NaN       NaN   \n",
       "4         9   134    DE      60       1.0       NaN       NaN       NaN   \n",
       "\n",
       "   prtvtdpl  stfeco  stfedu  stfhlth  \n",
       "0       NaN       5       4        5  \n",
       "1       NaN       5       5        6  \n",
       "2       NaN       9       8        5  \n",
       "3       NaN       7       7        6  \n",
       "4       NaN       9       8        9  "
      ]
     },
     "execution_count": 47,
     "metadata": {},
     "output_type": "execute_result"
    }
   ],
   "source": [
    "raw.head()"
   ]
  },
  {
   "cell_type": "code",
   "execution_count": 48,
   "metadata": {},
   "outputs": [],
   "source": [
    "cols = {'essround':'round',\n",
    "        'cntry':'country',\n",
    "        'nwspol':'news_mm/day',\n",
    "        'stfeco':'sat_eco',\n",
    "        'stfedu':'sat_edu', \n",
    "        'stfhlth':'sat_health',\n",
    "        'prtvede1':'party_de',\n",
    "        'prtvtdfr':'party_fr', \n",
    "        'prtvtfhu':'party_hu', \n",
    "        'prtvtcit':'party_it', \n",
    "        'prtvtdpl':'party_pl' }"
   ]
  },
  {
   "cell_type": "code",
   "execution_count": 49,
   "metadata": {},
   "outputs": [],
   "source": [
    "df = raw.rename(columns=cols)"
   ]
  },
  {
   "cell_type": "code",
   "execution_count": 50,
   "metadata": {},
   "outputs": [],
   "source": [
    "#I want to re-order the columns\n",
    "df = df[['country',\n",
    "         'idno',\n",
    "         'party_de', \n",
    "         'party_fr',\n",
    "         'party_hu', \n",
    "         'party_it', \n",
    "         'party_pl', \n",
    "         'news_mm/day', \n",
    "         'sat_eco', \n",
    "         'sat_edu', \n",
    "         'sat_health',\n",
    "         'round' ]]"
   ]
  },
  {
   "cell_type": "code",
   "execution_count": 51,
   "metadata": {},
   "outputs": [
    {
     "data": {
      "text/html": [
       "<div>\n",
       "<style scoped>\n",
       "    .dataframe tbody tr th:only-of-type {\n",
       "        vertical-align: middle;\n",
       "    }\n",
       "\n",
       "    .dataframe tbody tr th {\n",
       "        vertical-align: top;\n",
       "    }\n",
       "\n",
       "    .dataframe thead th {\n",
       "        text-align: right;\n",
       "    }\n",
       "</style>\n",
       "<table border=\"1\" class=\"dataframe\">\n",
       "  <thead>\n",
       "    <tr style=\"text-align: right;\">\n",
       "      <th></th>\n",
       "      <th>country</th>\n",
       "      <th>idno</th>\n",
       "      <th>party_de</th>\n",
       "      <th>party_fr</th>\n",
       "      <th>party_hu</th>\n",
       "      <th>party_it</th>\n",
       "      <th>party_pl</th>\n",
       "      <th>news_mm/day</th>\n",
       "      <th>sat_eco</th>\n",
       "      <th>sat_edu</th>\n",
       "      <th>sat_health</th>\n",
       "      <th>round</th>\n",
       "    </tr>\n",
       "  </thead>\n",
       "  <tbody>\n",
       "    <tr>\n",
       "      <th>0</th>\n",
       "      <td>DE</td>\n",
       "      <td>1</td>\n",
       "      <td>4.0</td>\n",
       "      <td>NaN</td>\n",
       "      <td>NaN</td>\n",
       "      <td>NaN</td>\n",
       "      <td>NaN</td>\n",
       "      <td>60</td>\n",
       "      <td>5</td>\n",
       "      <td>4</td>\n",
       "      <td>5</td>\n",
       "      <td>9</td>\n",
       "    </tr>\n",
       "    <tr>\n",
       "      <th>1</th>\n",
       "      <td>DE</td>\n",
       "      <td>63</td>\n",
       "      <td>66.0</td>\n",
       "      <td>NaN</td>\n",
       "      <td>NaN</td>\n",
       "      <td>NaN</td>\n",
       "      <td>NaN</td>\n",
       "      <td>30</td>\n",
       "      <td>5</td>\n",
       "      <td>5</td>\n",
       "      <td>6</td>\n",
       "      <td>9</td>\n",
       "    </tr>\n",
       "    <tr>\n",
       "      <th>2</th>\n",
       "      <td>DE</td>\n",
       "      <td>108</td>\n",
       "      <td>66.0</td>\n",
       "      <td>NaN</td>\n",
       "      <td>NaN</td>\n",
       "      <td>NaN</td>\n",
       "      <td>NaN</td>\n",
       "      <td>15</td>\n",
       "      <td>9</td>\n",
       "      <td>8</td>\n",
       "      <td>5</td>\n",
       "      <td>9</td>\n",
       "    </tr>\n",
       "    <tr>\n",
       "      <th>3</th>\n",
       "      <td>DE</td>\n",
       "      <td>117</td>\n",
       "      <td>1.0</td>\n",
       "      <td>NaN</td>\n",
       "      <td>NaN</td>\n",
       "      <td>NaN</td>\n",
       "      <td>NaN</td>\n",
       "      <td>90</td>\n",
       "      <td>7</td>\n",
       "      <td>7</td>\n",
       "      <td>6</td>\n",
       "      <td>9</td>\n",
       "    </tr>\n",
       "    <tr>\n",
       "      <th>4</th>\n",
       "      <td>DE</td>\n",
       "      <td>134</td>\n",
       "      <td>1.0</td>\n",
       "      <td>NaN</td>\n",
       "      <td>NaN</td>\n",
       "      <td>NaN</td>\n",
       "      <td>NaN</td>\n",
       "      <td>60</td>\n",
       "      <td>9</td>\n",
       "      <td>8</td>\n",
       "      <td>9</td>\n",
       "      <td>9</td>\n",
       "    </tr>\n",
       "  </tbody>\n",
       "</table>\n",
       "</div>"
      ],
      "text/plain": [
       "  country  idno  party_de  party_fr  party_hu  party_it  party_pl  \\\n",
       "0      DE     1       4.0       NaN       NaN       NaN       NaN   \n",
       "1      DE    63      66.0       NaN       NaN       NaN       NaN   \n",
       "2      DE   108      66.0       NaN       NaN       NaN       NaN   \n",
       "3      DE   117       1.0       NaN       NaN       NaN       NaN   \n",
       "4      DE   134       1.0       NaN       NaN       NaN       NaN   \n",
       "\n",
       "   news_mm/day  sat_eco  sat_edu  sat_health  round  \n",
       "0           60        5        4           5      9  \n",
       "1           30        5        5           6      9  \n",
       "2           15        9        8           5      9  \n",
       "3           90        7        7           6      9  \n",
       "4           60        9        8           9      9  "
      ]
     },
     "execution_count": 51,
     "metadata": {},
     "output_type": "execute_result"
    }
   ],
   "source": [
    "df.head()"
   ]
  },
  {
   "cell_type": "markdown",
   "metadata": {},
   "source": [
    "### Now we slice our df and create different subsets for each country\n",
    "#### DE"
   ]
  },
  {
   "cell_type": "code",
   "execution_count": 52,
   "metadata": {},
   "outputs": [],
   "source": [
    "de=df[df['country']=='DE'].drop(columns=['party_fr','party_hu','party_it','party_pl']).reset_index(drop=True)"
   ]
  },
  {
   "cell_type": "code",
   "execution_count": 57,
   "metadata": {},
   "outputs": [],
   "source": [
    "#### Now we divide again our df in 3: \n",
    "#### de_f: those who voted for AfD (party==6)  or NPD(party==8)\n",
    "#### de_novot: those who didn´t vote (party == 66)\n",
    "#### de_nof: the rest (also excluding those who didn´t answer(77) or didn´t know(88)"
   ]
  },
  {
   "cell_type": "code",
   "execution_count": 58,
   "metadata": {},
   "outputs": [],
   "source": [
    "de_f = de[de[\"party_de\"].isin([6,8])]"
   ]
  },
  {
   "cell_type": "code",
   "execution_count": 59,
   "metadata": {},
   "outputs": [],
   "source": [
    "de_novot = de[de[\"party_de\"]== 66]"
   ]
  },
  {
   "cell_type": "code",
   "execution_count": 62,
   "metadata": {},
   "outputs": [],
   "source": [
    "de_nof = de[~de[\"party_de\"].isin([6,8,66,77,88])]"
   ]
  },
  {
   "cell_type": "markdown",
   "metadata": {},
   "source": [
    "#### FR"
   ]
  },
  {
   "cell_type": "code",
   "execution_count": 64,
   "metadata": {},
   "outputs": [],
   "source": [
    "fr=df[df['country']=='FR'].drop(columns=['party_de','party_hu','party_it','party_pl']).reset_index(drop=True)"
   ]
  },
  {
   "cell_type": "code",
   "execution_count": 65,
   "metadata": {},
   "outputs": [],
   "source": [
    "#### fr_f: those who voted for FN (party==11)  \n",
    "#### fr_novot: those who didn´t vote (party == 66)\n",
    "#### fr_nof: the rest (also excluding those who didn´t answer(77) or didn´t know(88)"
   ]
  },
  {
   "cell_type": "code",
   "execution_count": 66,
   "metadata": {},
   "outputs": [],
   "source": [
    "fr_f = fr[fr[\"party_fr\"]==11]"
   ]
  },
  {
   "cell_type": "code",
   "execution_count": 67,
   "metadata": {},
   "outputs": [],
   "source": [
    "fr_novot = fr[fr[\"party_fr\"]==66]"
   ]
  },
  {
   "cell_type": "code",
   "execution_count": 69,
   "metadata": {},
   "outputs": [],
   "source": [
    "fr_nof = fr[~fr[\"party_fr\"].isin([11,66,77,88])]"
   ]
  },
  {
   "cell_type": "markdown",
   "metadata": {},
   "source": [
    "#### IT"
   ]
  },
  {
   "cell_type": "code",
   "execution_count": 73,
   "metadata": {},
   "outputs": [],
   "source": [
    "it=df[df['country']=='IT'].drop(columns=['party_de','party_hu','party_fr','party_pl']).reset_index(drop=True)"
   ]
  },
  {
   "cell_type": "code",
   "execution_count": 74,
   "metadata": {},
   "outputs": [],
   "source": [
    "#### it_f: those who voted for Lega (party==9)  \n",
    "#### it_novot: those who didn´t vote (party == 66)\n",
    "#### it_nof: the rest (also excluding those who didn´t answer(77) or didn´t know(88)"
   ]
  },
  {
   "cell_type": "code",
   "execution_count": 75,
   "metadata": {},
   "outputs": [],
   "source": [
    "it_f = it[it[\"party_it\"]==9]"
   ]
  },
  {
   "cell_type": "code",
   "execution_count": 76,
   "metadata": {},
   "outputs": [],
   "source": [
    "it_novot = it[it[\"party_it\"]==66]"
   ]
  },
  {
   "cell_type": "code",
   "execution_count": 77,
   "metadata": {},
   "outputs": [],
   "source": [
    "it_nof = it[~it[\"party_it\"].isin([9,66,77,88])]"
   ]
  },
  {
   "cell_type": "markdown",
   "metadata": {},
   "source": [
    "#### PL"
   ]
  },
  {
   "cell_type": "code",
   "execution_count": 78,
   "metadata": {},
   "outputs": [],
   "source": [
    "pl=df[df['country']=='PL'].drop(columns=['party_de','party_hu','party_fr','party_it']).reset_index(drop=True)"
   ]
  },
  {
   "cell_type": "code",
   "execution_count": 79,
   "metadata": {},
   "outputs": [],
   "source": [
    "#### pl_f: those who voted for PiS (party==6)  \n",
    "#### pl_novot: those who didn´t vote (party == 66)\n",
    "#### pl_nof: the rest (also excluding those who didn´t answer(77) or didn´t know(88)"
   ]
  },
  {
   "cell_type": "code",
   "execution_count": 80,
   "metadata": {},
   "outputs": [],
   "source": [
    "pl_f = pl[pl[\"party_pl\"]==6]"
   ]
  },
  {
   "cell_type": "code",
   "execution_count": 81,
   "metadata": {},
   "outputs": [],
   "source": [
    "pl_novot = pl[pl[\"party_pl\"]==66]"
   ]
  },
  {
   "cell_type": "code",
   "execution_count": 82,
   "metadata": {},
   "outputs": [],
   "source": [
    "pl_nof = pl[~pl[\"party_pl\"].isin([6,66,77,88])]"
   ]
  },
  {
   "cell_type": "markdown",
   "metadata": {},
   "source": [
    "#### HU"
   ]
  },
  {
   "cell_type": "code",
   "execution_count": 86,
   "metadata": {},
   "outputs": [],
   "source": [
    "hu=df[df['country']=='HU'].drop(columns=['party_de','party_pl','party_fr','party_it']).reset_index(drop=True)"
   ]
  },
  {
   "cell_type": "code",
   "execution_count": 87,
   "metadata": {},
   "outputs": [],
   "source": [
    "#### hu_f: those who voted for Fidesz (party==3)  \n",
    "#### hu_novot: those who didn´t vote (party == 66)\n",
    "#### hu_nof: the rest (also excluding those who didn´t answer(77) or didn´t know(88)"
   ]
  },
  {
   "cell_type": "code",
   "execution_count": 89,
   "metadata": {},
   "outputs": [],
   "source": [
    "hu_f = hu[hu[\"party_hu\"]==3]"
   ]
  },
  {
   "cell_type": "code",
   "execution_count": 90,
   "metadata": {},
   "outputs": [],
   "source": [
    "hu_novot = hu[hu[\"party_hu\"]==66]"
   ]
  },
  {
   "cell_type": "code",
   "execution_count": 91,
   "metadata": {},
   "outputs": [],
   "source": [
    "hu_nof = hu[~hu[\"party_hu\"].isin([3,66,77,88])]"
   ]
  },
  {
   "cell_type": "markdown",
   "metadata": {},
   "source": [
    "### On a typical day, about how much time do you spend watching, reading or listening to news about politics and current affairs? \n",
    "##### news_mm/day"
   ]
  },
  {
   "cell_type": "markdown",
   "metadata": {},
   "source": [
    "#### DE"
   ]
  },
  {
   "cell_type": "code",
   "execution_count": 97,
   "metadata": {},
   "outputs": [
    {
     "data": {
      "image/png": "[encoded data removed]",
      "text/plain": [
       "<Figure size 864x432 with 2 Axes>"
      ]
     },
     "metadata": {
      "needs_background": "light"
     },
     "output_type": "display_data"
    }
   ],
   "source": [
    "fig, axes = plt.subplots(nrows=1, ncols=2, figsize=(12,6))\n",
    "axes[0].boxplot(de_nof['news_mm/day']);\n",
    "axes[1].boxplot(de_f['news_mm/day']);\n",
    "axes[0].set_ylim([0,200]);\n",
    "axes[1].set_ylim([0,200]);\n",
    "axes[1].set_title('Far-right voters');"
   ]
  },
  {
   "cell_type": "markdown",
   "metadata": {},
   "source": [
    "#### FR"
   ]
  },
  {
   "cell_type": "code",
   "execution_count": 98,
   "metadata": {},
   "outputs": [
    {
     "data": {
      "image/png": "[encoded data removed]",
      "text/plain": [
       "<Figure size 864x432 with 2 Axes>"
      ]
     },
     "metadata": {
      "needs_background": "light"
     },
     "output_type": "display_data"
    }
   ],
   "source": [
    "fig, axes = plt.subplots(nrows=1, ncols=2, figsize=(12,6))\n",
    "axes[0].boxplot(fr_nof['news_mm/day']);\n",
    "axes[1].boxplot(fr_f['news_mm/day']);\n",
    "axes[0].set_ylim([0,200]);\n",
    "axes[1].set_ylim([0,200]);\n",
    "axes[1].set_title('Far-right voters');"
   ]
  },
  {
   "cell_type": "markdown",
   "metadata": {},
   "source": [
    "#### IT"
   ]
  },
  {
   "cell_type": "code",
   "execution_count": 107,
   "metadata": {},
   "outputs": [
    {
     "data": {
      "image/png": "[encoded data removed]",
      "text/plain": [
       "<Figure size 864x432 with 2 Axes>"
      ]
     },
     "metadata": {
      "needs_background": "light"
     },
     "output_type": "display_data"
    }
   ],
   "source": [
    "fig, axes = plt.subplots(nrows=1, ncols=2, figsize=(12,6))\n",
    "axes[0].boxplot(it_nof['news_mm/day']);\n",
    "axes[1].boxplot(it_f['news_mm/day']);\n",
    "axes[0].set_ylim([0,200]);\n",
    "axes[1].set_ylim([0,200]);\n",
    "axes[1].set_title('Far-right voters');"
   ]
  },
  {
   "cell_type": "markdown",
   "metadata": {},
   "source": [
    "#### PL"
   ]
  },
  {
   "cell_type": "code",
   "execution_count": 109,
   "metadata": {},
   "outputs": [
    {
     "data": {
      "image/png": "[encoded data removed]",
      "text/plain": [
       "<Figure size 864x432 with 2 Axes>"
      ]
     },
     "metadata": {
      "needs_background": "light"
     },
     "output_type": "display_data"
    }
   ],
   "source": [
    "fig, axes = plt.subplots(nrows=1, ncols=2, figsize=(12,6))\n",
    "axes[0].boxplot(pl_nof['news_mm/day']);\n",
    "axes[1].boxplot(pl_f['news_mm/day']);\n",
    "axes[0].set_ylim([0,200]);\n",
    "axes[1].set_ylim([0,200]);\n",
    "axes[1].set_title('Far-right voters');"
   ]
  },
  {
   "cell_type": "markdown",
   "metadata": {},
   "source": [
    "#### HU"
   ]
  },
  {
   "cell_type": "code",
   "execution_count": 111,
   "metadata": {},
   "outputs": [
    {
     "data": {
      "image/png": "[encoded data removed]",
      "text/plain": [
       "<Figure size 864x432 with 2 Axes>"
      ]
     },
     "metadata": {
      "needs_background": "light"
     },
     "output_type": "display_data"
    }
   ],
   "source": [
    "fig, axes = plt.subplots(nrows=1, ncols=2, figsize=(12,6))\n",
    "axes[0].boxplot(hu_nof['news_mm/day']);\n",
    "axes[1].boxplot(hu_f['news_mm/day']);\n",
    "axes[0].set_ylim([0,200]);\n",
    "axes[1].set_ylim([0,200]);\n",
    "axes[1].set_title('Far-right voters');"
   ]
  },
  {
   "cell_type": "code",
   "execution_count": null,
   "metadata": {},
   "outputs": [],
   "source": []
  }
 ],
 "metadata": {
  "kernelspec": {
   "display_name": "Python 3",
   "language": "python",
   "name": "python3"
  },
  "language_info": {
   "codemirror_mode": {
    "name": "ipython",
    "version": 3
   },
   "file_extension": ".py",
   "mimetype": "text/x-python",
   "name": "python",
   "nbconvert_exporter": "python",
   "pygments_lexer": "ipython3",
   "version": "3.7.6"
  }
 },
 "nbformat": 4,
 "nbformat_minor": 4
}
