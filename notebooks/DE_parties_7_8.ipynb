{
 "cells": [
  {
   "cell_type": "code",
   "execution_count": 2,
   "metadata": {},
   "outputs": [],
   "source": [
    "import pandas as pd\n",
    "import numpy as np\n",
    "import matplotlib.pyplot as plt\n",
    "import seaborn as sns\n",
    "import statsmodels.api as sm"
   ]
  },
  {
   "cell_type": "code",
   "execution_count": 3,
   "metadata": {},
   "outputs": [],
   "source": [
    "raw = pd.read_csv(\"../data/de_party_voted_78_raw.csv\")"
   ]
  },
  {
   "cell_type": "code",
   "execution_count": 4,
   "metadata": {},
   "outputs": [
    {
     "data": {
      "text/html": [
       "<div>\n",
       "<style scoped>\n",
       "    .dataframe tbody tr th:only-of-type {\n",
       "        vertical-align: middle;\n",
       "    }\n",
       "\n",
       "    .dataframe tbody tr th {\n",
       "        vertical-align: top;\n",
       "    }\n",
       "\n",
       "    .dataframe thead th {\n",
       "        text-align: right;\n",
       "    }\n",
       "</style>\n",
       "<table border=\"1\" class=\"dataframe\">\n",
       "  <thead>\n",
       "    <tr style=\"text-align: right;\">\n",
       "      <th></th>\n",
       "      <th>cntry</th>\n",
       "      <th>cname</th>\n",
       "      <th>cedition</th>\n",
       "      <th>cproddat</th>\n",
       "      <th>cseqno</th>\n",
       "      <th>name</th>\n",
       "      <th>essround</th>\n",
       "      <th>edition</th>\n",
       "      <th>idno</th>\n",
       "      <th>dweight</th>\n",
       "      <th>pspwght</th>\n",
       "      <th>pweight</th>\n",
       "      <th>prtvede1</th>\n",
       "    </tr>\n",
       "  </thead>\n",
       "  <tbody>\n",
       "    <tr>\n",
       "      <th>0</th>\n",
       "      <td>DE</td>\n",
       "      <td>ESS1-8e01</td>\n",
       "      <td>1.0</td>\n",
       "      <td>12.12.2018</td>\n",
       "      <td>84321</td>\n",
       "      <td>ESS7e02_2</td>\n",
       "      <td>7</td>\n",
       "      <td>2.2</td>\n",
       "      <td>10000011</td>\n",
       "      <td>0.531346</td>\n",
       "      <td>0.607555</td>\n",
       "      <td>2.304126</td>\n",
       "      <td>2</td>\n",
       "    </tr>\n",
       "    <tr>\n",
       "      <th>1</th>\n",
       "      <td>DE</td>\n",
       "      <td>ESS1-8e01</td>\n",
       "      <td>1.0</td>\n",
       "      <td>12.12.2018</td>\n",
       "      <td>84322</td>\n",
       "      <td>ESS7e02_2</td>\n",
       "      <td>7</td>\n",
       "      <td>2.2</td>\n",
       "      <td>10000021</td>\n",
       "      <td>0.531346</td>\n",
       "      <td>0.462666</td>\n",
       "      <td>2.304126</td>\n",
       "      <td>1</td>\n",
       "    </tr>\n",
       "    <tr>\n",
       "      <th>2</th>\n",
       "      <td>DE</td>\n",
       "      <td>ESS1-8e01</td>\n",
       "      <td>1.0</td>\n",
       "      <td>12.12.2018</td>\n",
       "      <td>84323</td>\n",
       "      <td>ESS7e02_2</td>\n",
       "      <td>7</td>\n",
       "      <td>2.2</td>\n",
       "      <td>10000051</td>\n",
       "      <td>1.227808</td>\n",
       "      <td>0.640290</td>\n",
       "      <td>2.304126</td>\n",
       "      <td>1</td>\n",
       "    </tr>\n",
       "    <tr>\n",
       "      <th>3</th>\n",
       "      <td>DE</td>\n",
       "      <td>ESS1-8e01</td>\n",
       "      <td>1.0</td>\n",
       "      <td>12.12.2018</td>\n",
       "      <td>84324</td>\n",
       "      <td>ESS7e02_2</td>\n",
       "      <td>7</td>\n",
       "      <td>2.2</td>\n",
       "      <td>10000061</td>\n",
       "      <td>1.227808</td>\n",
       "      <td>1.142616</td>\n",
       "      <td>2.304126</td>\n",
       "      <td>1</td>\n",
       "    </tr>\n",
       "    <tr>\n",
       "      <th>4</th>\n",
       "      <td>DE</td>\n",
       "      <td>ESS1-8e01</td>\n",
       "      <td>1.0</td>\n",
       "      <td>12.12.2018</td>\n",
       "      <td>84325</td>\n",
       "      <td>ESS7e02_2</td>\n",
       "      <td>7</td>\n",
       "      <td>2.2</td>\n",
       "      <td>10000111</td>\n",
       "      <td>1.227808</td>\n",
       "      <td>0.852731</td>\n",
       "      <td>2.304126</td>\n",
       "      <td>1</td>\n",
       "    </tr>\n",
       "  </tbody>\n",
       "</table>\n",
       "</div>"
      ],
      "text/plain": [
       "  cntry      cname  cedition    cproddat  cseqno       name  essround  \\\n",
       "0    DE  ESS1-8e01       1.0  12.12.2018   84321  ESS7e02_2         7   \n",
       "1    DE  ESS1-8e01       1.0  12.12.2018   84322  ESS7e02_2         7   \n",
       "2    DE  ESS1-8e01       1.0  12.12.2018   84323  ESS7e02_2         7   \n",
       "3    DE  ESS1-8e01       1.0  12.12.2018   84324  ESS7e02_2         7   \n",
       "4    DE  ESS1-8e01       1.0  12.12.2018   84325  ESS7e02_2         7   \n",
       "\n",
       "   edition      idno   dweight   pspwght   pweight  prtvede1  \n",
       "0      2.2  10000011  0.531346  0.607555  2.304126         2  \n",
       "1      2.2  10000021  0.531346  0.462666  2.304126         1  \n",
       "2      2.2  10000051  1.227808  0.640290  2.304126         1  \n",
       "3      2.2  10000061  1.227808  1.142616  2.304126         1  \n",
       "4      2.2  10000111  1.227808  0.852731  2.304126         1  "
      ]
     },
     "execution_count": 4,
     "metadata": {},
     "output_type": "execute_result"
    }
   ],
   "source": [
    "raw.head()"
   ]
  },
  {
   "cell_type": "code",
   "execution_count": 8,
   "metadata": {},
   "outputs": [
    {
     "data": {
      "text/plain": [
       "Index(['cntry', 'cname', 'cedition', 'cproddat', 'cseqno', 'name', 'essround',\n",
       "       'edition', 'idno', 'dweight', 'pspwght', 'pweight', 'prtvede1'],\n",
       "      dtype='object')"
      ]
     },
     "execution_count": 8,
     "metadata": {},
     "output_type": "execute_result"
    }
   ],
   "source": [
    "raw.columns"
   ]
  },
  {
   "cell_type": "code",
   "execution_count": 10,
   "metadata": {},
   "outputs": [],
   "source": [
    "de_parties = raw.drop(columns=['cname', \n",
    "                  'cedition', \n",
    "                  'cproddat', \n",
    "                  'cseqno', \n",
    "                  'name',\n",
    "                  'edition',\n",
    "                  'dweight', \n",
    "                  'pspwght', \n",
    "                  'pweight'])"
   ]
  },
  {
   "cell_type": "code",
   "execution_count": 11,
   "metadata": {},
   "outputs": [
    {
     "data": {
      "text/html": [
       "<div>\n",
       "<style scoped>\n",
       "    .dataframe tbody tr th:only-of-type {\n",
       "        vertical-align: middle;\n",
       "    }\n",
       "\n",
       "    .dataframe tbody tr th {\n",
       "        vertical-align: top;\n",
       "    }\n",
       "\n",
       "    .dataframe thead th {\n",
       "        text-align: right;\n",
       "    }\n",
       "</style>\n",
       "<table border=\"1\" class=\"dataframe\">\n",
       "  <thead>\n",
       "    <tr style=\"text-align: right;\">\n",
       "      <th></th>\n",
       "      <th>cntry</th>\n",
       "      <th>essround</th>\n",
       "      <th>idno</th>\n",
       "      <th>prtvede1</th>\n",
       "    </tr>\n",
       "  </thead>\n",
       "  <tbody>\n",
       "    <tr>\n",
       "      <th>0</th>\n",
       "      <td>DE</td>\n",
       "      <td>7</td>\n",
       "      <td>10000011</td>\n",
       "      <td>2</td>\n",
       "    </tr>\n",
       "    <tr>\n",
       "      <th>1</th>\n",
       "      <td>DE</td>\n",
       "      <td>7</td>\n",
       "      <td>10000021</td>\n",
       "      <td>1</td>\n",
       "    </tr>\n",
       "    <tr>\n",
       "      <th>2</th>\n",
       "      <td>DE</td>\n",
       "      <td>7</td>\n",
       "      <td>10000051</td>\n",
       "      <td>1</td>\n",
       "    </tr>\n",
       "    <tr>\n",
       "      <th>3</th>\n",
       "      <td>DE</td>\n",
       "      <td>7</td>\n",
       "      <td>10000061</td>\n",
       "      <td>1</td>\n",
       "    </tr>\n",
       "    <tr>\n",
       "      <th>4</th>\n",
       "      <td>DE</td>\n",
       "      <td>7</td>\n",
       "      <td>10000111</td>\n",
       "      <td>1</td>\n",
       "    </tr>\n",
       "  </tbody>\n",
       "</table>\n",
       "</div>"
      ],
      "text/plain": [
       "  cntry  essround      idno  prtvede1\n",
       "0    DE         7  10000011         2\n",
       "1    DE         7  10000021         1\n",
       "2    DE         7  10000051         1\n",
       "3    DE         7  10000061         1\n",
       "4    DE         7  10000111         1"
      ]
     },
     "execution_count": 11,
     "metadata": {},
     "output_type": "execute_result"
    }
   ],
   "source": [
    "de_parties.head()"
   ]
  },
  {
   "cell_type": "code",
   "execution_count": 15,
   "metadata": {},
   "outputs": [],
   "source": [
    "de_parties = de_parties.rename(columns={\"cntry\":\"country\",\n",
    "                                        \"essround\":\"round\",\n",
    "                                        \"prtvede1\":\"party\"})"
   ]
  },
  {
   "cell_type": "code",
   "execution_count": 16,
   "metadata": {},
   "outputs": [
    {
     "data": {
      "text/html": [
       "<div>\n",
       "<style scoped>\n",
       "    .dataframe tbody tr th:only-of-type {\n",
       "        vertical-align: middle;\n",
       "    }\n",
       "\n",
       "    .dataframe tbody tr th {\n",
       "        vertical-align: top;\n",
       "    }\n",
       "\n",
       "    .dataframe thead th {\n",
       "        text-align: right;\n",
       "    }\n",
       "</style>\n",
       "<table border=\"1\" class=\"dataframe\">\n",
       "  <thead>\n",
       "    <tr style=\"text-align: right;\">\n",
       "      <th></th>\n",
       "      <th>country</th>\n",
       "      <th>round</th>\n",
       "      <th>idno</th>\n",
       "      <th>party</th>\n",
       "    </tr>\n",
       "  </thead>\n",
       "  <tbody>\n",
       "    <tr>\n",
       "      <th>0</th>\n",
       "      <td>DE</td>\n",
       "      <td>7</td>\n",
       "      <td>10000011</td>\n",
       "      <td>2</td>\n",
       "    </tr>\n",
       "    <tr>\n",
       "      <th>1</th>\n",
       "      <td>DE</td>\n",
       "      <td>7</td>\n",
       "      <td>10000021</td>\n",
       "      <td>1</td>\n",
       "    </tr>\n",
       "    <tr>\n",
       "      <th>2</th>\n",
       "      <td>DE</td>\n",
       "      <td>7</td>\n",
       "      <td>10000051</td>\n",
       "      <td>1</td>\n",
       "    </tr>\n",
       "    <tr>\n",
       "      <th>3</th>\n",
       "      <td>DE</td>\n",
       "      <td>7</td>\n",
       "      <td>10000061</td>\n",
       "      <td>1</td>\n",
       "    </tr>\n",
       "    <tr>\n",
       "      <th>4</th>\n",
       "      <td>DE</td>\n",
       "      <td>7</td>\n",
       "      <td>10000111</td>\n",
       "      <td>1</td>\n",
       "    </tr>\n",
       "  </tbody>\n",
       "</table>\n",
       "</div>"
      ],
      "text/plain": [
       "  country  round      idno  party\n",
       "0      DE      7  10000011      2\n",
       "1      DE      7  10000021      1\n",
       "2      DE      7  10000051      1\n",
       "3      DE      7  10000061      1\n",
       "4      DE      7  10000111      1"
      ]
     },
     "execution_count": 16,
     "metadata": {},
     "output_type": "execute_result"
    }
   ],
   "source": [
    "de_parties.head()"
   ]
  },
  {
   "cell_type": "code",
   "execution_count": 17,
   "metadata": {},
   "outputs": [
    {
     "data": {
      "text/plain": [
       "(5897, 4)"
      ]
     },
     "execution_count": 17,
     "metadata": {},
     "output_type": "execute_result"
    }
   ],
   "source": [
    "de_parties.shape"
   ]
  },
  {
   "cell_type": "code",
   "execution_count": null,
   "metadata": {},
   "outputs": [],
   "source": []
  }
 ],
 "metadata": {
  "kernelspec": {
   "display_name": "Python 3",
   "language": "python",
   "name": "python3"
  },
  "language_info": {
   "codemirror_mode": {
    "name": "ipython",
    "version": 3
   },
   "file_extension": ".py",
   "mimetype": "text/x-python",
   "name": "python",
   "nbconvert_exporter": "python",
   "pygments_lexer": "ipython3",
   "version": "3.7.6"
  }
 },
 "nbformat": 4,
 "nbformat_minor": 4
}
